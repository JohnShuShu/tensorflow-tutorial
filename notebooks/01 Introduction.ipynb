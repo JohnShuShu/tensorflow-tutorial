{
 "cells": [
  {
   "cell_type": "markdown",
   "metadata": {},
   "source": [
    "\n",
    "# What we are going to learn\n",
    "\n",
    "1. What are artificial neural networks and how to train them\n",
    "2. How TensorFlow works\n",
    "3. How to implement these three network architectures with TensorFlow\n",
    "  - softmax classifier\n",
    "  - multi-layer network\n",
    "  - convolutional network\n",
    "\n",
    "We are going to use hand-written digit recognition ([MNIST](http://yann.lecun.com/exdb/mnist/) dataset) as the learning task.\n",
    "\n",
    "## What tools we are going to use\n",
    "\n",
    "- [Docker](https://www.docker.com/)\n",
    "- [Python](https://www.python.org/)\n",
    "- [Jupyter Notebook](http://jupyter.org/)\n",
    "- [TensorFlow](https://www.tensorflow.org/) and [TensorBoard](https://www.tensorflow.org/versions/r0.7/how_tos/summaries_and_tensorboard/index.html)\n",
    "- A little bit of [NumPy](http://www.numpy.org/) and [matplotlib](http://matplotlib.org/) perhaps.\n",
    "\n",
    "In the end, we might talk a bit about what other tools to use in practice."
   ]
  },
  {
   "cell_type": "code",
   "execution_count": null,
   "metadata": {
    "collapsed": true
   },
   "outputs": [],
   "source": []
  }
 ],
 "metadata": {
  "kernelspec": {
   "display_name": "Python 2",
   "language": "python",
   "name": "python2"
  },
  "language_info": {
   "codemirror_mode": {
    "name": "ipython",
    "version": 2
   },
   "file_extension": ".py",
   "mimetype": "text/x-python",
   "name": "python",
   "nbconvert_exporter": "python",
   "pygments_lexer": "ipython2",
   "version": "2.7.6"
  }
 },
 "nbformat": 4,
 "nbformat_minor": 0
}
