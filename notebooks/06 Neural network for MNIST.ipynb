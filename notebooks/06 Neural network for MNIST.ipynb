{
 "cells": [
  {
   "cell_type": "markdown",
   "metadata": {},
   "source": [
    "![](images/ann for mnist.png)"
   ]
  },
  {
   "cell_type": "code",
   "execution_count": null,
   "metadata": {
    "collapsed": false
   },
   "outputs": [],
   "source": [
    "from tensorflow.examples.tutorials.mnist import input_data\n",
    "mnist = input_data.read_data_sets(\"MNIST_data/\", one_hot=True)"
   ]
  },
  {
   "cell_type": "code",
   "execution_count": null,
   "metadata": {
    "collapsed": false
   },
   "outputs": [],
   "source": [
    "import tensorflow as tf\n",
    "\n",
    "# Clear the graph because we might run this\n",
    "# cell in Jupyter many times, and we don't\n",
    "# want multiple copies of the graph.\n",
    "tf.python.framework.ops.reset_default_graph()\n",
    "\n",
    "inputs = tf.placeholder(tf.float32, [None, 784], name=\"inputs\")\n",
    "expected_outputs = tf.placeholder(tf.float32, [None, 10], name=\"expected_outputs\")\n",
    "\n",
    "weights1 = tf.Variable(\n",
    "    tf.random_normal([784, 100], stddev=0.35), tf.float32, name=\"weights1\")\n",
    "biases1 = tf.Variable(\n",
    "    tf.random_normal([100], stddev=0.35), tf.float32, name=\"biases1\")\n",
    "\n",
    "weights2 = tf.Variable(\n",
    "    tf.random_normal([100, 50], stddev=0.35), tf.float32, name=\"weights2\")\n",
    "biases2 = tf.Variable(\n",
    "    tf.random_normal([50], stddev=0.35), tf.float32, name=\"biases2\")\n",
    "\n",
    "weights3 = tf.Variable(tf.zeros([50, 10], tf.float32), name=\"weights3\")\n",
    "biases3 = tf.Variable(tf.zeros([10]), tf.float32, name=\"biases3\")\n",
    "\n",
    "\n",
    "with tf.name_scope(\"layer1\"):\n",
    "    layer1_outputs = tf.nn.relu(tf.matmul(inputs, weights1) + biases1)\n",
    "\n",
    "with tf.name_scope(\"layer2\"):\n",
    "    layer2_outputs = tf.nn.relu(tf.matmul(layer1_outputs, weights2) + biases2)\n",
    "\n",
    "with tf.name_scope(\"softmax_layer\"):\n",
    "    outputs = tf.nn.softmax(tf.matmul(layer2_outputs, weights3) + biases3)\n",
    "    \n",
    "with tf.name_scope(\"cross_entropy\"):\n",
    "    cross_entropy = -tf.reduce_sum(expected_outputs*tf.log(outputs))\n",
    "\n",
    "with tf.name_scope(\"train_step\"):\n",
    "    optimizer = tf.train.GradientDescentOptimizer(learning_rate=0.0001)\n",
    "    train_step = optimizer.minimize(cross_entropy)\n",
    "\n",
    "initialize = tf.initialize_all_variables()\n",
    "\n",
    "with tf.name_scope(\"accuracy\"):\n",
    "    labels = tf.argmax(outputs, 1)\n",
    "    expected_labels = tf.argmax(expected_outputs, 1)\n",
    "    correct_prediction = tf.equal(labels, expected_labels)\n",
    "    accuracy = tf.reduce_mean(tf.cast(correct_prediction, tf.float32))\n",
    "\n",
    "with tf.Session() as session:\n",
    "    session.run(initialize)\n",
    "    for step in xrange(10000):\n",
    "        batch_inputs, batch_outputs = mnist.train.next_batch(100)\n",
    "        session.run(train_step, {\n",
    "                inputs: batch_inputs,\n",
    "                expected_outputs: batch_outputs\n",
    "            })\n",
    "\n",
    "        if step % 100 == 0:\n",
    "            print session.run(accuracy, {\n",
    "                    inputs: mnist.test.images,\n",
    "                    expected_outputs: mnist.test.labels\n",
    "                })\n"
   ]
  },
  {
   "cell_type": "code",
   "execution_count": null,
   "metadata": {
    "collapsed": true
   },
   "outputs": [],
   "source": []
  }
 ],
 "metadata": {
  "kernelspec": {
   "display_name": "Python 2",
   "language": "python",
   "name": "python2"
  },
  "language_info": {
   "codemirror_mode": {
    "name": "ipython",
    "version": 2
   },
   "file_extension": ".py",
   "mimetype": "text/x-python",
   "name": "python",
   "nbconvert_exporter": "python",
   "pygments_lexer": "ipython2",
   "version": "2.7.6"
  }
 },
 "nbformat": 4,
 "nbformat_minor": 0
}
