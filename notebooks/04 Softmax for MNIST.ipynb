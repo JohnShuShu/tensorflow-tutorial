{
 "cells": [
  {
   "cell_type": "markdown",
   "metadata": {},
   "source": [
    "![](images/softmax for mnist.png)"
   ]
  },
  {
   "cell_type": "code",
   "execution_count": 2,
   "metadata": {
    "collapsed": false
   },
   "outputs": [
    {
     "name": "stdout",
     "output_type": "stream",
     "text": [
      "Extracting MNIST_data/train-images-idx3-ubyte.gz\n",
      "Extracting MNIST_data/train-labels-idx1-ubyte.gz\n",
      "Extracting MNIST_data/t10k-images-idx3-ubyte.gz\n",
      "Extracting MNIST_data/t10k-labels-idx1-ubyte.gz\n"
     ]
    }
   ],
   "source": [
    "from tensorflow.examples.tutorials.mnist import input_data\n",
    "mnist = input_data.read_data_sets(\"MNIST_data/\", one_hot=True)"
   ]
  },
  {
   "cell_type": "code",
   "execution_count": null,
   "metadata": {
    "collapsed": true
   },
   "outputs": [],
   "source": [
    "import tensorflow as tf\n",
    "\n",
    "# Clear the graph because we might run this\n",
    "# cell in Jupyter many times, and we don't\n",
    "# want multiple copies of the graph.\n",
    "tf.python.framework.ops.reset_default_graph()\n",
    "\n",
    "inputs = tf.placeholder(tf.float32, [None, 784], name=\"inputs\")\n",
    "expected_outputs = tf.placeholder(tf.float32, [None, 10], name=\"weights\")\n",
    "weights = tf.Variable(tf.zeros([784, 10], tf.float32), name=\"weights\")\n",
    "biases = tf.Variable(tf.zeros([10]), tf.float32, name=\"biases\")\n",
    "\n",
    "with tf.name_scope(\"linear_softmax\"):\n",
    "    outputs = tf.nn.softmax(tf.matmul(inputs, weights) + biases)\n",
    "    \n",
    "with tf.name_scope(\"cross_entropy\"):\n",
    "    cross_entropy = -tf.reduce_sum(expected_outputs*tf.log(outputs))\n",
    "\n",
    "with tf.name_scope(\"train_step\"):\n",
    "    optimizer = tf.train.GradientDescentOptimizer(learning_rate=0.01)\n",
    "    train_step = optimizer.minimize(cross_entropy)\n",
    "\n",
    "initialize = tf.initialize_all_variables()\n",
    "\n",
    "with tf.name_scope(\"accuracy\"):\n",
    "    labels = tf.argmax(outputs, 1)\n",
    "    expected_labels = tf.argmax(expected_outputs, 1)\n",
    "    correct_prediction = tf.equal(labels, expected_labels)\n",
    "    accuracy = tf.reduce_mean(tf.cast(correct_prediction, tf.float32))\n",
    "\n",
    "with tf.Session() as session:\n",
    "    session.run(initialize)\n",
    "    for step in xrange(1000):\n",
    "        batch_inputs, batch_outputs = mnist.train.next_batch(100)\n",
    "        session.run(train_step, {\n",
    "                inputs: batch_inputs,\n",
    "                expected_outputs: batch_outputs\n",
    "            })\n",
    "\n",
    "    print session.run(accuracy, {\n",
    "                inputs: mnist.test.images,\n",
    "                expected_outputs: mnist.test.labels\n",
    "            })"
   ]
  },
  {
   "cell_type": "markdown",
   "metadata": {},
   "source": [
    "## Add summaries"
   ]
  },
  {
   "cell_type": "code",
   "execution_count": 14,
   "metadata": {
    "collapsed": false
   },
   "outputs": [
    {
     "name": "stdout",
     "output_type": "stream",
     "text": [
      "0.9105\n"
     ]
    }
   ],
   "source": [
    "import tensorflow as tf\n",
    "from time import strftime\n",
    "\n",
    "# Clear the graph because we might run this\n",
    "# cell in Jupyter many times, and we don't\n",
    "# want multiple copies of the graph.\n",
    "tf.python.framework.ops.reset_default_graph()\n",
    "\n",
    "inputs = tf.placeholder(tf.float32, [None, 784], name=\"inputs\")\n",
    "expected_outputs = tf.placeholder(tf.float32, [None, 10], name=\"weights\")\n",
    "weights = tf.Variable(tf.zeros([784, 10], tf.float32), name=\"weights\")\n",
    "biases = tf.Variable(tf.zeros([10]), tf.float32, name=\"biases\")\n",
    "\n",
    "with tf.name_scope(\"linear_softmax\"):\n",
    "    outputs = tf.nn.softmax(tf.matmul(inputs, weights) + biases)\n",
    "    \n",
    "with tf.name_scope(\"cross_entropy\"):\n",
    "    cross_entropies = -tf.reduce_sum(expected_outputs*tf.log(outputs), 1)\n",
    "    mean_cross_entropy = tf.reduce_mean(cross_entropies, 0)\n",
    "\n",
    "with tf.name_scope(\"train_step\"):\n",
    "    optimizer = tf.train.GradientDescentOptimizer(learning_rate=0.1)\n",
    "    train_step = optimizer.minimize(mean_cross_entropy)\n",
    "    \n",
    "\n",
    "cross_entropy_summary = tf.scalar_summary(\"cross_entropy\", mean_cross_entropy)\n",
    "initialize = tf.initialize_all_variables()\n",
    "\n",
    "\n",
    "with tf.name_scope(\"accuracy\"):\n",
    "    labels = tf.argmax(outputs, 1)\n",
    "    expected_labels = tf.argmax(expected_outputs, 1)\n",
    "    correct_prediction = tf.equal(labels, expected_labels)\n",
    "    accuracy = tf.reduce_mean(tf.cast(correct_prediction, tf.float32))\n",
    "\n",
    "with tf.Session() as session:\n",
    "    time = strftime(\"%Y-%m-%d_%H:%M:%S\"),\n",
    "    train_writer = tf.train.SummaryWriter(\"../logs/softmax_mnist_train_%s\" % time, graph_def=session.graph_def)\n",
    "    validation_writer = tf.train.SummaryWriter(\"../logs/softmax_mnist_validation_%s\" % time)\n",
    "    \n",
    "    session.run(initialize)\n",
    "    for step in xrange(1000):\n",
    "        batch_inputs, batch_outputs = mnist.train.next_batch(100)\n",
    "        session.run(train_step, {\n",
    "                inputs: batch_inputs,\n",
    "                expected_outputs: batch_outputs\n",
    "            })\n",
    "\n",
    "        if step % 10 == 0:\n",
    "            train_cost = session.run(cross_entropy_summary, {\n",
    "                    inputs: mnist.train.images,\n",
    "                    expected_outputs: mnist.train.labels\n",
    "                })\n",
    "            train_writer.add_summary(train_cost, step)\n",
    "\n",
    "            validation_cost = session.run(cross_entropy_summary, {\n",
    "                    inputs: mnist.validation.images,\n",
    "                    expected_outputs: mnist.validation.labels\n",
    "                })\n",
    "            validation_writer.add_summary(validation_cost, step)\n",
    "            \n",
    "            \n",
    "    print session.run(accuracy, {\n",
    "                inputs: mnist.test.images,\n",
    "                expected_outputs: mnist.test.labels\n",
    "            })\n",
    "\n",
    "    train_writer.close()\n",
    "    validation_writer.close()\n"
   ]
  },
  {
   "cell_type": "markdown",
   "metadata": {},
   "source": [
    "Now we see on TensorBoard something like this:\n",
    "\n",
    "![](images/softmax for mnist cost graph.png)"
   ]
  },
  {
   "cell_type": "code",
   "execution_count": null,
   "metadata": {
    "collapsed": true
   },
   "outputs": [],
   "source": []
  }
 ],
 "metadata": {
  "kernelspec": {
   "display_name": "Python 2",
   "language": "python",
   "name": "python2"
  },
  "language_info": {
   "codemirror_mode": {
    "name": "ipython",
    "version": 2
   },
   "file_extension": ".py",
   "mimetype": "text/x-python",
   "name": "python",
   "nbconvert_exporter": "python",
   "pygments_lexer": "ipython2",
   "version": "2.7.6"
  }
 },
 "nbformat": 4,
 "nbformat_minor": 0
}
