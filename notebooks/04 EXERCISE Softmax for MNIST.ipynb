{
 "cells": [
  {
   "cell_type": "markdown",
   "metadata": {},
   "source": [
    "![](images/softmax for mnist.png)"
   ]
  },
  {
   "cell_type": "code",
   "execution_count": null,
   "metadata": {
    "collapsed": false
   },
   "outputs": [],
   "source": [
    "from tensorflow.examples.tutorials.mnist import input_data\n",
    "mnist = input_data.read_data_sets(\"MNIST_data/\", one_hot=True)"
   ]
  },
  {
   "cell_type": "markdown",
   "metadata": {},
   "source": [
    "## Exercise: Softmax for MNIST\n",
    "\n",
    "Convert the softmax code below to work on MNIST."
   ]
  },
  {
   "cell_type": "code",
   "execution_count": null,
   "metadata": {
    "collapsed": true
   },
   "outputs": [],
   "source": [
    "### Graph\n",
    "\n",
    "import tensorflow as tf\n",
    "\n",
    "# Clear the graph because we might run this\n",
    "# cell in Jupyter many times, and we don't\n",
    "# want multiple copies of the graph.\n",
    "tf.python.framework.ops.reset_default_graph()\n",
    "\n",
    "inputs = tf.placeholder(tf.float32, [None, 2], name=\"inputs\")\n",
    "expected_outputs = tf.placeholder(tf.float32, [None, 3], name=\"weights\")\n",
    "weights = tf.Variable(tf.zeros([2, 3], tf.float32), name=\"weights\")\n",
    "biases = tf.Variable(tf.zeros([3]), tf.float32, name=\"biases\")\n",
    "\n",
    "with tf.name_scope(\"linear_softmax\"):\n",
    "    outputs = tf.nn.softmax(tf.matmul(inputs, weights) + biases)\n",
    "    \n",
    "with tf.name_scope(\"cross_entropy\"):\n",
    "    cross_entropy = -tf.reduce_sum(expected_outputs*tf.log(outputs))\n",
    "\n",
    "with tf.name_scope(\"train_step\"):\n",
    "    optimizer = tf.train.GradientDescentOptimizer(learning_rate=0.01)\n",
    "    train_step = optimizer.minimize(cross_entropy)\n",
    "\n",
    "initialize = tf.initialize_all_variables()\n",
    "labels = tf.argmax(outputs, 1)\n",
    "expected_labels = tf.argmax(expected_outputs, 1)\n",
    "correct_prediction = tf.equal(labels, expected_labels)\n",
    "\n",
    "accuracy = tf.reduce_mean(tf.cast(correct_prediction, tf.float32))"
   ]
  },
  {
   "cell_type": "code",
   "execution_count": null,
   "metadata": {
    "collapsed": false
   },
   "outputs": [],
   "source": [
    "### Session\n",
    "\n",
    "session = tf.Session()\n",
    "\n",
    "session.run(initialize)\n",
    "for step in xrange(1000):\n",
    "    session.run(train_step, {\n",
    "            inputs: training_inputs,\n",
    "            expected_outputs: training_labels})\n",
    "\n",
    "    if step % 100 == 0:\n",
    "        print\n",
    "        print session.run(accuracy, {\n",
    "                inputs: training_inputs,\n",
    "                expected_outputs: training_labels}),\n",
    "    \n",
    "    if step % 10 == 0:\n",
    "        print \".\",\n",
    "\n",
    "print\n",
    "print \"Training accuracy: %f\" % session.run(accuracy, {\n",
    "        inputs: mnist.train.images,\n",
    "        expected_outputs: mnist.train.labels})\n",
    "print \"Validation accuracy: %f\" % session.run(accuracy, {\n",
    "        inputs: mnist.validation.images,\n",
    "        expected_outputs: mnist.validation.labels})\n",
    "# print \"Test accuracy: %f\" % session.run(accuracy, {\n",
    "#         inputs: mnist.test.images,\n",
    "#         expected_outputs: mnist.test.labels})"
   ]
  },
  {
   "cell_type": "markdown",
   "metadata": {},
   "source": [
    "## Extras\n",
    "\n",
    "1. Can you make the algorithm converge with fewer steps? Try different learning rates and different optimizers. (See [Optimizers](https://www.tensorflow.org/versions/r0.7/api_docs/python/train.html#optimizers).)\n",
    "2. What examples of training data does the trained model label incorrectly?\n",
    "3. What kind of patterns do the weights form? Can you visualize them?"
   ]
  }
 ],
 "metadata": {
  "kernelspec": {
   "display_name": "Python 2",
   "language": "python",
   "name": "python2"
  },
  "language_info": {
   "codemirror_mode": {
    "name": "ipython",
    "version": 2
   },
   "file_extension": ".py",
   "mimetype": "text/x-python",
   "name": "python",
   "nbconvert_exporter": "python",
   "pygments_lexer": "ipython2",
   "version": "2.7.6"
  }
 },
 "nbformat": 4,
 "nbformat_minor": 0
}
