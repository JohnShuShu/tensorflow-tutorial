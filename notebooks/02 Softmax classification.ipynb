{
 "cells": [
  {
   "cell_type": "markdown",
   "metadata": {},
   "source": [
    "## Toy data set\n",
    "\n",
    "Let's train a network to classify ice hockey match scores to match results. We'll have the teams' goal amounts as the input and one-hot encoding of HOME_WIN, DRAW and AWAY_WIN as output. For example, for a match that ends 6–4, we would have [6, 4] as the input and [1, 0, 0] as output, because it's a win for the home team."
   ]
  },
  {
   "cell_type": "code",
   "execution_count": 1,
   "metadata": {
    "collapsed": true
   },
   "outputs": [],
   "source": [
    "training_data = [\n",
    "    [5, 4], [1, 0, 0],\n",
    "    [1, 4], [0, 0, 1],\n",
    "    [2, 4], [0, 0, 1],\n",
    "    [0, 0], [0, 1, 0],\n",
    "    [2, 2], [0, 1, 0],\n",
    "    [7, 1], [1, 0, 0],\n",
    "    [1, 0], [1, 0, 0],\n",
    "    [1, 2], [0, 0, 1]\n",
    "]\n",
    "\n",
    "test_data = [\n",
    "    [8, 2], [1, 0, 0],\n",
    "    [7, 7], [0, 1, 0],\n",
    "    [1, 3], [0, 0, 1],\n",
    "    [3, 3], [0, 1, 0]\n",
    "]"
   ]
  },
  {
   "cell_type": "markdown",
   "metadata": {},
   "source": [
    "## Softmax classifier\n",
    "\n",
    "Now let's use TensorFlow to build a softmax model for the task."
   ]
  },
  {
   "cell_type": "code",
   "execution_count": 2,
   "metadata": {
    "collapsed": false
   },
   "outputs": [],
   "source": [
    "import tensorflow as tf\n",
    "\n",
    "# Inputs\n",
    "home_score = tf.placeholder(tf.float32, [])\n",
    "away_score = tf.placeholder(tf.float32, [])\n",
    "\n",
    "# Labels\n",
    "home_win = tf.placeholder(tf.float32, [])\n",
    "draw = tf.placeholder(tf.float32, [])\n",
    "away_win = tf.placeholder(tf.float32, [])\n",
    "\n",
    "# Weights\n",
    "home_home = tf.Variable(0.0, name=\"home_home\")\n",
    "home_draw = tf.Variable(0.0, name=\"home_draw\")\n",
    "home_away = tf.Variable(0.0, name=\"home_away\")\n",
    "away_home = tf.Variable(0.0, name=\"away_home\")\n",
    "away_draw = tf.Variable(0.0, name=\"away_draw\")\n",
    "away_away = tf.Variable(0.0, name=\"away_away\")\n",
    "\n",
    "# Biases\n",
    "home_bias = tf.Variable(0.0, name=\"home_bias\")\n",
    "draw_bias = tf.Variable(0.0, name=\"draw_bias\")\n",
    "away_bias = tf.Variable(0.0, name=\"away_bias\")\n",
    "\n",
    "# Outputs\n",
    "with tf.name_scope(\"home_output\"):\n",
    "    home_output = home_score * home_home + away_score * away_home + home_bias\n",
    "with tf.name_scope(\"draw_output\"):\n",
    "    draw_output = home_score * home_draw + away_score * away_draw + draw_bias\n",
    "with tf.name_scope(\"away_output\"):\n",
    "    away_output = home_score * home_away + away_score * away_away + away_bias    "
   ]
  },
  {
   "cell_type": "markdown",
   "metadata": {},
   "source": [
    "Now that we have built the graph, we can run it."
   ]
  },
  {
   "cell_type": "code",
   "execution_count": 3,
   "metadata": {
    "collapsed": false
   },
   "outputs": [
    {
     "name": "stdout",
     "output_type": "stream",
     "text": [
      "0.0\n"
     ]
    }
   ],
   "source": [
    "with tf.Session() as session:\n",
    "    session.run(tf.initialize_all_variables())\n",
    "    print session.run(home_output, {home_score: 7, away_score: 3})"
   ]
  },
  {
   "cell_type": "markdown",
   "metadata": {},
   "source": [
    "Let's see what the graph looks like in TensorBoard."
   ]
  },
  {
   "cell_type": "code",
   "execution_count": 4,
   "metadata": {
    "collapsed": false
   },
   "outputs": [
    {
     "name": "stdout",
     "output_type": "stream",
     "text": [
      "Done!\n"
     ]
    }
   ],
   "source": [
    "with tf.Session() as session:\n",
    "    writer = tf.train.SummaryWriter(\"../logs/softmax\", graph_def=session.graph_def)\n",
    "    writer.close()\n",
    "    print \"Done!\""
   ]
  },
  {
   "cell_type": "markdown",
   "metadata": {},
   "source": [
    "Something like this:\n",
    "\n",
    "![](images/softmax graph in tensorboard.png)"
   ]
  }
 ],
 "metadata": {
  "kernelspec": {
   "display_name": "Python 2",
   "language": "python",
   "name": "python2"
  },
  "language_info": {
   "codemirror_mode": {
    "name": "ipython",
    "version": 2
   },
   "file_extension": ".py",
   "mimetype": "text/x-python",
   "name": "python",
   "nbconvert_exporter": "python",
   "pygments_lexer": "ipython2",
   "version": "2.7.6"
  }
 },
 "nbformat": 4,
 "nbformat_minor": 0
}
