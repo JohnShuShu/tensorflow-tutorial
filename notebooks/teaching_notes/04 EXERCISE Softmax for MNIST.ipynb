{
 "cells": [
  {
   "cell_type": "markdown",
   "metadata": {},
   "source": [
    "![](images/softmax for mnist.png)"
   ]
  },
  {
   "cell_type": "code",
   "execution_count": 1,
   "metadata": {
    "collapsed": false
   },
   "outputs": [
    {
     "name": "stdout",
     "output_type": "stream",
     "text": [
      "Extracting MNIST_data/train-images-idx3-ubyte.gz\n",
      "Extracting MNIST_data/train-labels-idx1-ubyte.gz\n",
      "Extracting MNIST_data/t10k-images-idx3-ubyte.gz\n",
      "Extracting MNIST_data/t10k-labels-idx1-ubyte.gz\n"
     ]
    }
   ],
   "source": [
    "from tensorflow.examples.tutorials.mnist import input_data\n",
    "mnist = input_data.read_data_sets(\"MNIST_data/\", one_hot=True)"
   ]
  },
  {
   "cell_type": "code",
   "execution_count": 11,
   "metadata": {
    "collapsed": false
   },
   "outputs": [
    {
     "name": "stdout",
     "output_type": "stream",
     "text": [
      "\n",
      "0.475 . . . . . . . . . .\n",
      "0.8916 . . . . . . . . . .\n",
      "0.9094 . . . . . . . . . .\n",
      "0.909 . . . . . . . . . .\n",
      "0.914 . . . . . . . . . .\n",
      "0.918 . . . . . . . . . .\n",
      "0.903 . . . . . . . . . .\n",
      "0.9042 . . . . . . . . . .\n",
      "0.9188 . . . . . . . . . .\n",
      "0.9222 . . . . . . . . . .\n",
      "Training error: 0.903182\n",
      "Validation error: 0.907800\n"
     ]
    }
   ],
   "source": [
    "import tensorflow as tf\n",
    "\n",
    "# Clear the graph because we might run this\n",
    "# cell in Jupyter many times, and we don't\n",
    "# want multiple copies of the graph.\n",
    "tf.python.framework.ops.reset_default_graph()\n",
    "\n",
    "inputs = tf.placeholder(tf.float32, [None, 784], name=\"inputs\")\n",
    "expected_outputs = tf.placeholder(tf.float32, [None, 10], name=\"weights\")\n",
    "weights = tf.Variable(tf.zeros([784, 10], tf.float32), name=\"weights\")\n",
    "biases = tf.Variable(tf.zeros([10]), tf.float32, name=\"biases\")\n",
    "\n",
    "with tf.name_scope(\"linear_softmax\"):\n",
    "    outputs = tf.nn.softmax(tf.matmul(inputs, weights) + biases)\n",
    "    \n",
    "with tf.name_scope(\"cross_entropy\"):\n",
    "    cross_entropy = -tf.reduce_sum(expected_outputs*tf.log(outputs))\n",
    "\n",
    "with tf.name_scope(\"train_step\"):\n",
    "    optimizer = tf.train.GradientDescentOptimizer(learning_rate=0.01)\n",
    "    train_step = optimizer.minimize(cross_entropy)\n",
    "\n",
    "initialize = tf.initialize_all_variables()\n",
    "\n",
    "with tf.name_scope(\"accuracy\"):\n",
    "    labels = tf.argmax(outputs, 1)\n",
    "    expected_labels = tf.argmax(expected_outputs, 1)\n",
    "    correct_prediction = tf.equal(labels, expected_labels)\n",
    "    accuracy = tf.reduce_mean(tf.cast(correct_prediction, tf.float32))\n",
    "\n",
    "session = tf.Session()\n",
    "session.run(initialize)\n",
    "\n",
    "for step in xrange(1000):\n",
    "    batch_inputs, batch_outputs = mnist.train.next_batch(100)\n",
    "    session.run(train_step, {\n",
    "            inputs: batch_inputs,\n",
    "            expected_outputs: batch_outputs})\n",
    "\n",
    "    if step % 100 == 0:\n",
    "        print\n",
    "        print session.run(accuracy, {\n",
    "                inputs: mnist.validation.images,\n",
    "                expected_outputs: mnist.validation.labels}),\n",
    "\n",
    "    if step % 10 == 0:\n",
    "        print \".\",\n",
    "\n",
    "print\n",
    "print \"Training error: %f\" % session.run(accuracy, {\n",
    "        inputs: mnist.train.images,\n",
    "        expected_outputs: mnist.train.labels})\n",
    "print \"Validation error: %f\" % session.run(accuracy, {\n",
    "        inputs: mnist.validation.images,\n",
    "        expected_outputs: mnist.validation.labels})\n",
    "# print \"Test error: %f\" % session.run(accuracy, {\n",
    "#         inputs: mnist.test.images,\n",
    "#         expected_outputs: mnist.test.labels})"
   ]
  }
 ],
 "metadata": {
  "kernelspec": {
   "display_name": "Python 2",
   "language": "python",
   "name": "python2"
  },
  "language_info": {
   "codemirror_mode": {
    "name": "ipython",
    "version": 2
   },
   "file_extension": ".py",
   "mimetype": "text/x-python",
   "name": "python",
   "nbconvert_exporter": "python",
   "pygments_lexer": "ipython2",
   "version": "2.7.6"
  }
 },
 "nbformat": 4,
 "nbformat_minor": 0
}
