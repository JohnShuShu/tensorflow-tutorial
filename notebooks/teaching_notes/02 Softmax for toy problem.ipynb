{
 "cells": [
  {
   "cell_type": "markdown",
   "metadata": {},
   "source": [
    "## Toy data set\n",
    "\n",
    "Let's train a network to classify ice hockey match scores to match results. We'll have the teams' goal amounts as the input and one-hot encoding of HOME_WIN, DRAW and AWAY_WIN as output. For example, for a match that ends 6–4, we would have [6, 4] as the input and [1, 0, 0] as output, because it's a win for the home team."
   ]
  },
  {
   "cell_type": "code",
   "execution_count": 1,
   "metadata": {
    "collapsed": true
   },
   "outputs": [],
   "source": [
    "training_data = [\n",
    "    ([5, 4], [1, 0, 0]),\n",
    "    ([1, 4], [0, 0, 1]),\n",
    "    ([2, 4], [0, 0, 1]),\n",
    "    ([0, 0], [0, 1, 0]),\n",
    "    ([2, 2], [0, 1, 0]),\n",
    "    ([7, 1], [1, 0, 0]),\n",
    "    ([1, 0], [1, 0, 0]),\n",
    "    ([1, 2], [0, 0, 1])\n",
    "]\n",
    "\n",
    "test_data = [\n",
    "    ([8, 2], [1, 0, 0]),\n",
    "    ([7, 7], [0, 1, 0]),\n",
    "    ([1, 3], [0, 0, 1]),\n",
    "    ([3, 3], [0, 1, 0])\n",
    "]\n",
    "\n",
    "training_inputs, training_labels = zip(*training_data)\n",
    "test_inputs, test_labels = zip(*test_data)"
   ]
  },
  {
   "cell_type": "markdown",
   "metadata": {},
   "source": [
    "Let's plot the data."
   ]
  },
  {
   "cell_type": "code",
   "execution_count": 2,
   "metadata": {
    "collapsed": false
   },
   "outputs": [
    {
     "data": {
      "text/plain": [
       "<matplotlib.text.Text at 0x7fe7950f62d0>"
      ]
     },
     "execution_count": 2,
     "metadata": {},
     "output_type": "execute_result"
    },
    {
     "data": {
      "image/png": "[encoded data removed]",
      "text/plain": [
       "<matplotlib.figure.Figure at 0x7fe7b02baf50>"
      ]
     },
     "metadata": {},
     "output_type": "display_data"
    }
   ],
   "source": [
    "%matplotlib inline\n",
    "\n",
    "import matplotlib.pyplot as plt\n",
    "import numpy as np\n",
    "\n",
    "p, (training_plot, test_plot) = plt.subplots(\n",
    "        1, 2, figsize=(10.5,5), \n",
    "        subplot_kw={'xlim': [-0.2, 8.2], 'ylim': [-0.2, 8.2]})\n",
    "\n",
    "x, y = zip(*training_inputs)\n",
    "training_plot.scatter(x, y, c=training_labels, s=100)\n",
    "training_plot.set_title(\"training\")\n",
    "\n",
    "x, y = zip(*test_inputs)\n",
    "test_plot.scatter(x, y, c=test_labels, s=100)\n",
    "test_plot.set_title(\"test\")"
   ]
  },
  {
   "cell_type": "markdown",
   "metadata": {
    "slideshow": {
     "slide_type": "-"
    }
   },
   "source": [
    "## Softmax classifier\n",
    "\n",
    "We are going to use a softmax classifier to solve this task. Here are two ways to visualize what we will build:\n",
    "\n",
    "![](images/softmax for toy problem.png)\n",
    "\n",
    "Explain these things:\n",
    "\n",
    "- Theory of softmax classification\n",
    "\t- Draw the softmax graph on whiteboard\n",
    "\t- Explain linear module\n",
    "\t- Explain softmax module\n",
    "- Theory of optimization\n",
    "\t- We try to find weights in the linear module that solve the problem\n",
    "\t- We need to define what’s a good solution: cost function\n",
    "\t- We need to somehow update the weights so that they minimize the cost function: the optimizer\n",
    "\t- Draw a parameter space gradient-descent picture on the whiteboard\n",
    "\t- Draw gradient arrows and descent path but don’t go into details of differentiation\n",
    "- How TensorFlow works\n",
    "\t- It describes and runs computation graphs\n",
    "\t- Why graphs?\n",
    "\t\t- So we can compile the same solution for different processors and architectures: CPU, GPU, ARM…\n",
    "\t\t- So we can use Python to construct the graph and C++ to run it\n",
    "\t\t- So we can automatically calculate the gradients\n",
    "\t- We first build the graph: default_graph\n",
    "\t- And then run it: Session.run\n",
    "- Introduce Tensors\n",
    "\t- The graph is based on Tensors: multi-dimensional arrays. Most operations apply to all of the elements of the array at the same time."
   ]
  },
  {
   "cell_type": "markdown",
   "metadata": {},
   "source": [
    "## Build the model with TensorFlow"
   ]
  },
  {
   "cell_type": "code",
   "execution_count": 3,
   "metadata": {
    "collapsed": false
   },
   "outputs": [],
   "source": [
    "import tensorflow as tf\n",
    "\n",
    "# Clear the graph because we might run this\n",
    "# cell in Jupyter many times, and we don't\n",
    "# want multiple copies of the graph.\n",
    "tf.python.framework.ops.reset_default_graph()\n",
    "\n",
    "inputs = tf.placeholder(tf.float32, [None, 2], name=\"inputs\")\n",
    "expected_outputs = tf.placeholder(tf.float32, [None, 3], name=\"weights\")\n",
    "weights = tf.Variable(tf.zeros([2, 3], tf.float32), name=\"weights\")\n",
    "biases = tf.Variable(tf.zeros([3]), tf.float32, name=\"biases\")\n",
    "\n",
    "with tf.name_scope(\"linear_softmax\"):\n",
    "    outputs = tf.nn.softmax(tf.matmul(inputs, weights) + biases)"
   ]
  },
  {
   "cell_type": "markdown",
   "metadata": {},
   "source": [
    "## What does the graph look like?"
   ]
  },
  {
   "cell_type": "code",
   "execution_count": 4,
   "metadata": {
    "collapsed": false
   },
   "outputs": [
    {
     "name": "stdout",
     "output_type": "stream",
     "text": [
      "Done!\n"
     ]
    }
   ],
   "source": [
    "with tf.Session() as session:\n",
    "    writer = tf.train.SummaryWriter(\"../logs/softmax\", graph_def=session.graph_def)\n",
    "    writer.close()\n",
    "    print \"Done!\""
   ]
  },
  {
   "cell_type": "markdown",
   "metadata": {},
   "source": [
    "Something like this:\n",
    "\n",
    "![](images/softmax graph in tensorboard.png)"
   ]
  },
  {
   "cell_type": "markdown",
   "metadata": {},
   "source": [
    "## Calculate accuracy\n",
    "\n",
    "Explain what accuracy is for.\n",
    "\n",
    "Explain on whiteboard how accuracy works."
   ]
  },
  {
   "cell_type": "code",
   "execution_count": 5,
   "metadata": {
    "collapsed": false
   },
   "outputs": [],
   "source": [
    "labels = tf.argmax(outputs, 1)\n",
    "expected_labels = tf.argmax(expected_outputs, 1)\n",
    "correct_prediction = tf.equal(labels, expected_labels)\n",
    "accuracy = tf.reduce_mean(tf.cast(correct_prediction, tf.float32))"
   ]
  },
  {
   "cell_type": "markdown",
   "metadata": {},
   "source": [
    "## Add gradient descent to the graph\n",
    "\n",
    "- Remind how gradient descent works.\n",
    "- Explain on whiteboard how cross entropy works."
   ]
  },
  {
   "cell_type": "code",
   "execution_count": 6,
   "metadata": {
    "collapsed": false
   },
   "outputs": [],
   "source": [
    "with tf.name_scope(\"cross_entropy\"):\n",
    "    cross_entropy = -tf.reduce_sum(expected_outputs*tf.log(outputs))\n",
    "\n",
    "with tf.name_scope(\"train_step\"):\n",
    "    optimizer = tf.train.GradientDescentOptimizer(learning_rate=0.01)\n",
    "    train_step = optimizer.minimize(cross_entropy)"
   ]
  },
  {
   "cell_type": "markdown",
   "metadata": {},
   "source": [
    "## Initialize variables\n",
    "\n",
    "This is part of the graph too!"
   ]
  },
  {
   "cell_type": "code",
   "execution_count": 7,
   "metadata": {
    "collapsed": true
   },
   "outputs": [],
   "source": [
    "initialize = tf.initialize_all_variables()"
   ]
  },
  {
   "cell_type": "markdown",
   "metadata": {},
   "source": [
    "## Train and test accuracy"
   ]
  },
  {
   "cell_type": "code",
   "execution_count": 8,
   "metadata": {
    "collapsed": false
   },
   "outputs": [
    {
     "name": "stdout",
     "output_type": "stream",
     "text": [
      "\n",
      "0.75 . . . . . . . . . .\n",
      "0.875 . . . . . . . . . .\n",
      "1.0 . . . . . . . . . .\n",
      "1.0 . . . . . . . . . .\n",
      "1.0 . . . . . . . . . .\n",
      "1.0 . . . . . . . . . .\n",
      "1.0 . . . . . . . . . .\n",
      "1.0 . . . . . . . . . .\n",
      "1.0 . . . . . . . . . .\n",
      "1.0 . . . . . . . . . .\n",
      "Training error: 1.000000\n",
      "Test error: 0.750000\n"
     ]
    }
   ],
   "source": [
    "session = tf.Session()\n",
    "session.run(initialize)\n",
    "for step in xrange(1000):\n",
    "    session.run(train_step, {\n",
    "            inputs: training_inputs,\n",
    "            expected_outputs: training_labels\n",
    "        })\n",
    "\n",
    "    if step % 100 == 0:\n",
    "        print\n",
    "        print session.run(accuracy, {\n",
    "                inputs: training_inputs,\n",
    "                expected_outputs: training_labels}),\n",
    "    \n",
    "    if step % 10 == 0:\n",
    "        print \".\",\n",
    "\n",
    "    \n",
    "print\n",
    "print \"Training error: %f\" % session.run(accuracy, {\n",
    "        inputs: training_inputs,\n",
    "        expected_outputs: training_labels})\n",
    "print \"Test error: %f\" % session.run(accuracy, {\n",
    "        inputs: test_inputs,\n",
    "        expected_outputs: test_labels})\n",
    "\n",
    "test_run_results = session.run(labels, {\n",
    "        inputs: test_inputs\n",
    "    })"
   ]
  },
  {
   "cell_type": "code",
   "execution_count": 10,
   "metadata": {
    "collapsed": false
   },
   "outputs": [
    {
     "data": {
      "text/plain": [
       "<matplotlib.collections.PathCollection at 0x7fe790938f50>"
      ]
     },
     "execution_count": 10,
     "metadata": {},
     "output_type": "execute_result"
    },
    {
     "data": {
      "image/png": "[encoded data removed]",
      "text/plain": [
       "<matplotlib.figure.Figure at 0x7fe794eb0950>"
      ]
     },
     "metadata": {},
     "output_type": "display_data"
    }
   ],
   "source": [
    "import numpy as np\n",
    "\n",
    "plt.figure(figsize=(5,5))\n",
    "\n",
    "y_min, y_max = x_min, x_max = [-0.2, 8.2]\n",
    "xx, yy = np.meshgrid(np.arange(x_min, x_max, 0.01),\n",
    "                     np.arange(y_min, y_max, 0.01))\n",
    "\n",
    "def model(inputs_):\n",
    "    return session.run(labels, {inputs: inputs_})\n",
    "\n",
    "# Plot contours\n",
    "Z = model(np.c_[xx.ravel(), yy.ravel()]) \n",
    "c = plt.contourf(xx, yy, Z.reshape(xx.shape))\n",
    "\n",
    "# Plot test data\n",
    "x, y = zip(*test_inputs)\n",
    "z = np.argmax(test_labels, 1)\n",
    "plt.scatter(x, y, c=z/30.0, s=200)\n"
   ]
  },
  {
   "cell_type": "markdown",
   "metadata": {
    "collapsed": true
   },
   "source": [
    "## About decision boundaries\n",
    "\n",
    "Note that the decision boundaries are linear!"
   ]
  }
 ],
 "metadata": {
  "kernelspec": {
   "display_name": "Python 2",
   "language": "python",
   "name": "python2"
  },
  "language_info": {
   "codemirror_mode": {
    "name": "ipython",
    "version": 2
   },
   "file_extension": ".py",
   "mimetype": "text/x-python",
   "name": "python",
   "nbconvert_exporter": "python",
   "pygments_lexer": "ipython2",
   "version": "2.7.6"
  }
 },
 "nbformat": 4,
 "nbformat_minor": 0
}
