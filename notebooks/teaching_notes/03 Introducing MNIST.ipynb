{
 "cells": [
  {
   "cell_type": "markdown",
   "metadata": {},
   "source": [
    "## Loading MNIST"
   ]
  },
  {
   "cell_type": "code",
   "execution_count": null,
   "metadata": {
    "collapsed": true
   },
   "outputs": [],
   "source": [
    "from tensorflow.examples.tutorials.mnist import input_data\n",
    "mnist = input_data.read_data_sets(\"MNIST_data/\", one_hot=True)"
   ]
  },
  {
   "cell_type": "markdown",
   "metadata": {},
   "source": [
    "## Set sizes"
   ]
  },
  {
   "cell_type": "code",
   "execution_count": null,
   "metadata": {
    "collapsed": false
   },
   "outputs": [],
   "source": [
    "print\n",
    "print \"Train:\", len(mnist.train.images)\n",
    "print \"Validation:\", len(mnist.validation.images)\n",
    "print \"Test:\", len(mnist.test.images)"
   ]
  },
  {
   "cell_type": "markdown",
   "metadata": {},
   "source": [
    "## Examples visualized"
   ]
  },
  {
   "cell_type": "code",
   "execution_count": null,
   "metadata": {
    "collapsed": false
   },
   "outputs": [],
   "source": [
    "%matplotlib inline\n",
    "import matplotlib.pyplot as plt\n",
    "import matplotlib.cm as cm\n",
    "import numpy as np\n",
    "\n",
    "def show_images(examples):\n",
    "    images = [example.reshape([28, 28]) for example in examples]\n",
    "    f, subplots = plt.subplots(1, len(examples), figsize=(20,5))\n",
    "    for image, subplot in zip(images, subplots):\n",
    "        subplot.imshow(image, cmap=cm.Greys, interpolation=\"nearest\")\n",
    "\n",
    "def images_with_label(label_):\n",
    "    matching_indices = [i for i, label in enumerate(mnist.train.labels) if np.argmax(label, 0) == label_]\n",
    "    return mnist.train.images[matching_indices]\n",
    "\n",
    "images_per_label = [images_with_label(label) for label in xrange(10)]\n",
    "\n",
    "for row in xrange(3):\n",
    "    image_row = [images_per_label[label][row] for label in xrange(0,10)]\n",
    "    show_images(image_row)"
   ]
  },
  {
   "cell_type": "markdown",
   "metadata": {},
   "source": [
    "## Mini-batches"
   ]
  },
  {
   "cell_type": "code",
   "execution_count": null,
   "metadata": {
    "collapsed": false
   },
   "outputs": [],
   "source": [
    "images, labels = mnist.train.next_batch(100)\n",
    "print len(images), len(labels)"
   ]
  }
 ],
 "metadata": {
  "kernelspec": {
   "display_name": "Python 2",
   "language": "python",
   "name": "python2"
  },
  "language_info": {
   "codemirror_mode": {
    "name": "ipython",
    "version": 2
   },
   "file_extension": ".py",
   "mimetype": "text/x-python",
   "name": "python",
   "nbconvert_exporter": "python",
   "pygments_lexer": "ipython2",
   "version": "2.7.6"
  }
 },
 "nbformat": 4,
 "nbformat_minor": 0
}
