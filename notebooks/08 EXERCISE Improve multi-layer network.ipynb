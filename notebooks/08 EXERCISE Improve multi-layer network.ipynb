{
 "cells": [
  {
   "cell_type": "markdown",
   "metadata": {},
   "source": [
    "# Exercise: Improve multi-layer network\n",
    "\n",
    "Try to make the network below converge faster and reach a higher accuracy. You can vary e.g. these things:\n",
    "\n",
    "- number of layers\n",
    "- size of layers\n",
    "- learning rate\n",
    "- [optimizer](https://www.tensorflow.org/versions/r0.7/api_docs/python/train.html#optimizers)\n",
    "- [activation function](https://www.tensorflow.org/versions/r0.7/api_docs/python/nn.html#activation-functions)\n",
    "\n",
    "You can also try regularization by e.g. adding a cost for large weights or applying [dropout](https://www.tensorflow.org/versions/r0.7/api_docs/python/nn.html#dropout). "
   ]
  },
  {
   "cell_type": "code",
   "execution_count": null,
   "metadata": {
    "collapsed": false
   },
   "outputs": [],
   "source": [
    "from tensorflow.examples.tutorials.mnist import input_data\n",
    "mnist = input_data.read_data_sets(\"MNIST_data/\", one_hot=True)"
   ]
  },
  {
   "cell_type": "markdown",
   "metadata": {},
   "source": [
    "## Graph"
   ]
  },
  {
   "cell_type": "code",
   "execution_count": null,
   "metadata": {
    "collapsed": true
   },
   "outputs": [],
   "source": [
    "import tensorflow as tf\n",
    "from time import strftime\n",
    "\n",
    "# Clear the graph because we might run this\n",
    "# cell in Jupyter many times, and we don't\n",
    "# want multiple copies of the graph.\n",
    "tf.python.framework.ops.reset_default_graph()\n",
    "\n",
    "inputs = tf.placeholder(tf.float32, [None, 784], name=\"inputs\")\n",
    "expected_outputs = tf.placeholder(tf.float32, [None, 10], name=\"expected_outputs\")\n",
    "\n",
    "weights1 = tf.Variable(\n",
    "    tf.random_normal([784, 100], stddev=0.35), tf.float32, name=\"weights1\")\n",
    "biases1 = tf.Variable(\n",
    "    tf.random_normal([100], stddev=0.35), tf.float32, name=\"biases1\")\n",
    "\n",
    "weights2 = tf.Variable(\n",
    "    tf.random_normal([100, 50], stddev=0.35), tf.float32, name=\"weights2\")\n",
    "biases2 = tf.Variable(\n",
    "    tf.random_normal([50], stddev=0.35), tf.float32, name=\"biases2\")\n",
    "\n",
    "weights3 = tf.Variable(tf.zeros([50, 10], tf.float32), name=\"weights3\")\n",
    "biases3 = tf.Variable(tf.zeros([10]), tf.float32, name=\"biases3\")\n",
    "\n",
    "\n",
    "with tf.name_scope(\"layer1\"):\n",
    "    layer1_outputs = tf.nn.relu(tf.matmul(inputs, weights1) + biases1)\n",
    "\n",
    "with tf.name_scope(\"layer2\"):\n",
    "    layer2_outputs = tf.nn.relu(tf.matmul(layer1_outputs, weights2) + biases2)\n",
    "\n",
    "with tf.name_scope(\"softmax_layer\"):\n",
    "    outputs = tf.nn.softmax(tf.matmul(layer2_outputs, weights3) + biases3)\n",
    "    \n",
    "with tf.name_scope(\"cross_entropy\"):\n",
    "    cross_entropies = -tf.reduce_sum(expected_outputs*tf.log(outputs), 1)\n",
    "    mean_cross_entropy = tf.reduce_mean(cross_entropies, 0)\n",
    "\n",
    "with tf.name_scope(\"train_step\"):\n",
    "    optimizer = tf.train.GradientDescentOptimizer(learning_rate=0.001)\n",
    "    train_step = optimizer.minimize(mean_cross_entropy)\n",
    "\n",
    "cross_entropy_summary = tf.scalar_summary(\"cross_entropy\", mean_cross_entropy)\n",
    "initialize = tf.initialize_all_variables()\n",
    "\n",
    "with tf.name_scope(\"accuracy\"):\n",
    "    labels = tf.argmax(outputs, 1)\n",
    "    expected_labels = tf.argmax(expected_outputs, 1)\n",
    "    correct_prediction = tf.equal(labels, expected_labels)\n",
    "    accuracy = tf.reduce_mean(tf.cast(correct_prediction, tf.float32))"
   ]
  },
  {
   "cell_type": "markdown",
   "metadata": {},
   "source": [
    "## Session"
   ]
  },
  {
   "cell_type": "code",
   "execution_count": null,
   "metadata": {
    "collapsed": false
   },
   "outputs": [],
   "source": [
    "def log_cross_entropy(writer, dataset, step):\n",
    "    images, labels = dataset.next_batch(100)\n",
    "    value = session.run(cross_entropy_summary,\n",
    "            {inputs: images, expected_outputs: labels})\n",
    "    writer.add_summary(value, step)\n",
    "    writer.flush()\n",
    "\n",
    "session = tf.Session()\n",
    "time = strftime(\"%Y-%m-%d_%H:%M:%S\"),\n",
    "train_writer = tf.train.SummaryWriter(\"../logs/multilayer_%s_train\" % time, graph_def=session.graph_def)\n",
    "validation_writer = tf.train.SummaryWriter(\"../logs/multilayer_%s_validation\" % time)\n",
    "\n",
    "session.run(initialize)\n",
    "for step in xrange(1000):\n",
    "    batch_inputs, batch_outputs = mnist.train.next_batch(100)\n",
    "    session.run(train_step, {\n",
    "            inputs: batch_inputs,\n",
    "            expected_outputs: batch_outputs})\n",
    "\n",
    "    if step % 100 == 0:\n",
    "        print\n",
    "        print session.run(accuracy, {\n",
    "                inputs: mnist.validation.images,\n",
    "                expected_outputs: mnist.validation.labels}),    \n",
    "    \n",
    "    if step % 10 == 0:\n",
    "        print \".\",\n",
    "        log_cross_entropy(train_writer, mnist.train, step)\n",
    "        log_cross_entropy(validation_writer, mnist.validation, step)            \n",
    "\n",
    "print\n",
    "print \"Training error: %f\" % session.run(accuracy, {\n",
    "        inputs: mnist.train.images,\n",
    "        expected_outputs: mnist.train.labels})\n",
    "print \"Validation error: %f\" % session.run(accuracy, {\n",
    "        inputs: mnist.validation.images,\n",
    "        expected_outputs: mnist.validation.labels})\n",
    "print \"Test error: %f\" % session.run(accuracy, {\n",
    "        inputs: mnist.test.images,\n",
    "        expected_outputs: mnist.test.labels})\n"
   ]
  }
 ],
 "metadata": {
  "kernelspec": {
   "display_name": "Python 2",
   "language": "python",
   "name": "python2"
  },
  "language_info": {
   "codemirror_mode": {
    "name": "ipython",
    "version": 2
   },
   "file_extension": ".py",
   "mimetype": "text/x-python",
   "name": "python",
   "nbconvert_exporter": "python",
   "pygments_lexer": "ipython2",
   "version": "2.7.6"
  }
 },
 "nbformat": 4,
 "nbformat_minor": 0
}
