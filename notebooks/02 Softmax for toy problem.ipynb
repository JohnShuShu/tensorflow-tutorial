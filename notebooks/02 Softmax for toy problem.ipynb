{
 "cells": [
  {
   "cell_type": "markdown",
   "metadata": {},
   "source": [
    "## Toy data set\n",
    "\n",
    "Let's train a network to classify ice hockey match scores to match results. We'll have the teams' goal amounts as the input and one-hot encoding of HOME_WIN, DRAW and AWAY_WIN as output. For example, for a match that ends 6–4, we would have [6, 4] as the input and [1, 0, 0] as output, because it's a win for the home team."
   ]
  },
  {
   "cell_type": "code",
   "execution_count": null,
   "metadata": {
    "collapsed": true
   },
   "outputs": [],
   "source": [
    "training_data = [\n",
    "    ([5, 4], [1, 0, 0]),\n",
    "    ([1, 4], [0, 0, 1]),\n",
    "    ([2, 4], [0, 0, 1]),\n",
    "    ([0, 0], [0, 1, 0]),\n",
    "    ([2, 2], [0, 1, 0]),\n",
    "    ([7, 1], [1, 0, 0]),\n",
    "    ([1, 0], [1, 0, 0]),\n",
    "    ([1, 2], [0, 0, 1])\n",
    "]\n",
    "\n",
    "test_data = [\n",
    "    ([8, 2], [1, 0, 0]),\n",
    "    ([7, 7], [0, 1, 0]),\n",
    "    ([1, 3], [0, 0, 1]),\n",
    "    ([3, 3], [0, 1, 0])\n",
    "]\n",
    "\n",
    "training_inputs, training_labels = zip(*training_data)\n",
    "test_inputs, test_labels = zip(*test_data)"
   ]
  },
  {
   "cell_type": "markdown",
   "metadata": {},
   "source": [
    "Let's plot the data."
   ]
  },
  {
   "cell_type": "code",
   "execution_count": null,
   "metadata": {
    "collapsed": false
   },
   "outputs": [],
   "source": [
    "%matplotlib inline\n",
    "\n",
    "import matplotlib.pyplot as plt\n",
    "import numpy as np\n",
    "\n",
    "p, (training_plot, test_plot) = plt.subplots(\n",
    "        1, 2, figsize=(10.5,5), \n",
    "        subplot_kw={'xlim': [-0.2, 8.2], 'ylim': [-0.2, 8.2]})\n",
    "\n",
    "x, y = zip(*training_inputs)\n",
    "training_plot.scatter(x, y, c=training_labels, s=200)\n",
    "training_plot.set_title(\"training\")\n",
    "\n",
    "x, y = zip(*test_inputs)\n",
    "test_plot.scatter(x, y, c=test_labels, s=200)\n",
    "test_plot.set_title(\"test\")"
   ]
  },
  {
   "cell_type": "markdown",
   "metadata": {
    "slideshow": {
     "slide_type": "-"
    }
   },
   "source": [
    "## Softmax classifier\n",
    "\n",
    "We are going to use a softmax classifier to solve this task. Here are two ways to visualize what we will build:\n",
    "\n",
    "![](images/softmax for toy problem.png)\n",
    "\n",
    "Now let's use TensorFlow to build this model."
   ]
  },
  {
   "cell_type": "code",
   "execution_count": null,
   "metadata": {
    "collapsed": true
   },
   "outputs": [],
   "source": [
    "### Softmax implementation comes here"
   ]
  },
  {
   "cell_type": "markdown",
   "metadata": {},
   "source": [
    "## Plot the decision boundaries\n",
    "\n",
    "After we have implemented softmax, we can plot the resulting decision boundaries with the code below"
   ]
  },
  {
   "cell_type": "code",
   "execution_count": null,
   "metadata": {
    "collapsed": false
   },
   "outputs": [],
   "source": [
    "import numpy as np\n",
    "\n",
    "plt.figure(figsize=(5,5))\n",
    "\n",
    "y_min, y_max = x_min, x_max = [-0.2, 8.2]\n",
    "xx, yy = np.meshgrid(np.arange(x_min, x_max, 0.01),\n",
    "                     np.arange(y_min, y_max, 0.01))\n",
    "\n",
    "def model(inputs_):\n",
    "    return session.run(labels, {inputs: inputs_})\n",
    "\n",
    "# Plot contours\n",
    "Z = model(np.c_[xx.ravel(), yy.ravel()]) \n",
    "c = plt.contourf(xx, yy, Z.reshape(xx.shape))\n",
    "\n",
    "# Plot test data\n",
    "x, y = zip(*test_inputs)\n",
    "z = np.argmax(test_labels, 1)\n",
    "plt.scatter(x, y, c=z/30.0, s=200)"
   ]
  }
 ],
 "metadata": {
  "kernelspec": {
   "display_name": "Python 2",
   "language": "python",
   "name": "python2"
  },
  "language_info": {
   "codemirror_mode": {
    "name": "ipython",
    "version": 2
   },
   "file_extension": ".py",
   "mimetype": "text/x-python",
   "name": "python",
   "nbconvert_exporter": "python",
   "pygments_lexer": "ipython2",
   "version": "2.7.6"
  }
 },
 "nbformat": 4,
 "nbformat_minor": 0
}
