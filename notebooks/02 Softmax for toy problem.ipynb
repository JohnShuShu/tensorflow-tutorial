{
 "cells": [
  {
   "cell_type": "markdown",
   "metadata": {},
   "source": [
    "## Toy data set\n",
    "\n",
    "Let's train a network to classify ice hockey match scores to match results. We'll have the teams' goal amounts as the input and one-hot encoding of HOME_WIN, DRAW and AWAY_WIN as output. For example, for a match that ends 6–4, we would have [6, 4] as the input and [1, 0, 0] as output, because it's a win for the home team."
   ]
  },
  {
   "cell_type": "code",
   "execution_count": null,
   "metadata": {
    "collapsed": true
   },
   "outputs": [],
   "source": [
    "training_data = [\n",
    "    ([5, 4], [1, 0, 0]),\n",
    "    ([1, 4], [0, 0, 1]),\n",
    "    ([2, 4], [0, 0, 1]),\n",
    "    ([0, 0], [0, 1, 0]),\n",
    "    ([2, 2], [0, 1, 0]),\n",
    "    ([7, 1], [1, 0, 0]),\n",
    "    ([1, 0], [1, 0, 0]),\n",
    "    ([1, 2], [0, 0, 1])\n",
    "]\n",
    "\n",
    "test_data = [\n",
    "    ([8, 2], [1, 0, 0]),\n",
    "    ([7, 7], [0, 1, 0]),\n",
    "    ([1, 3], [0, 0, 1]),\n",
    "    ([3, 3], [0, 1, 0])\n",
    "]\n",
    "\n",
    "training_inputs, training_labels = zip(*training_data)\n",
    "test_inputs, test_labels = zip(*test_data)"
   ]
  },
  {
   "cell_type": "markdown",
   "metadata": {},
   "source": [
    "## Softmax classifier\n",
    "\n",
    "Now let's use TensorFlow to build a softmax model for the task."
   ]
  },
  {
   "cell_type": "code",
   "execution_count": null,
   "metadata": {
    "collapsed": false
   },
   "outputs": [],
   "source": [
    "import tensorflow as tf\n",
    "\n",
    "# Clear the graph because we might run this\n",
    "# cell in Jupyter many times, and we don't\n",
    "# want multiple copies of the graph.\n",
    "tf.python.framework.ops.reset_default_graph()\n",
    "\n",
    "# Inputs\n",
    "home_score = tf.placeholder(tf.float32, [])\n",
    "away_score = tf.placeholder(tf.float32, [])\n",
    "\n",
    "# Labels\n",
    "home_win = tf.placeholder(tf.float32, [])\n",
    "draw = tf.placeholder(tf.float32, [])\n",
    "away_win = tf.placeholder(tf.float32, [])\n",
    "\n",
    "# Weights\n",
    "home_home = tf.Variable(0.0, name=\"home_home\")\n",
    "home_draw = tf.Variable(0.0, name=\"home_draw\")\n",
    "home_away = tf.Variable(0.0, name=\"home_away\")\n",
    "away_home = tf.Variable(0.0, name=\"away_home\")\n",
    "away_draw = tf.Variable(0.0, name=\"away_draw\")\n",
    "away_away = tf.Variable(0.0, name=\"away_away\")\n",
    "\n",
    "# Biases\n",
    "home_bias = tf.Variable(0.0, name=\"home_bias\")\n",
    "draw_bias = tf.Variable(0.0, name=\"draw_bias\")\n",
    "away_bias = tf.Variable(0.0, name=\"away_bias\")\n",
    "\n",
    "# Outputs\n",
    "with tf.name_scope(\"home_output\"):\n",
    "    home_output = home_score * home_home + away_score * away_home + home_bias\n",
    "with tf.name_scope(\"draw_output\"):\n",
    "    draw_output = home_score * home_draw + away_score * away_draw + draw_bias\n",
    "with tf.name_scope(\"away_output\"):\n",
    "    away_output = home_score * home_away + away_score * away_away + away_bias    "
   ]
  },
  {
   "cell_type": "markdown",
   "metadata": {},
   "source": [
    "Now that we have built the graph, we can run it."
   ]
  },
  {
   "cell_type": "code",
   "execution_count": null,
   "metadata": {
    "collapsed": false
   },
   "outputs": [],
   "source": [
    "with tf.Session() as session:\n",
    "    session.run(tf.initialize_all_variables())\n",
    "    print session.run(home_output, {home_score: 7, away_score: 3})"
   ]
  },
  {
   "cell_type": "markdown",
   "metadata": {},
   "source": [
    "Let's see what the graph looks like in TensorBoard."
   ]
  },
  {
   "cell_type": "code",
   "execution_count": null,
   "metadata": {
    "collapsed": false
   },
   "outputs": [],
   "source": [
    "with tf.Session() as session:\n",
    "    writer = tf.train.SummaryWriter(\"../logs/softmax\", graph_def=session.graph_def)\n",
    "    writer.close()\n",
    "    print \"Done!\""
   ]
  },
  {
   "cell_type": "markdown",
   "metadata": {},
   "source": [
    "Something like this:\n",
    "\n",
    "![](images/softmax graph in tensorboard.png)"
   ]
  },
  {
   "cell_type": "markdown",
   "metadata": {},
   "source": [
    "## Refactor the model to use 2D tensors"
   ]
  },
  {
   "cell_type": "code",
   "execution_count": null,
   "metadata": {
    "collapsed": false
   },
   "outputs": [],
   "source": [
    "import tensorflow as tf\n",
    "\n",
    "# Clear the graph because we might run this\n",
    "# cell in Jupyter many times, and we don't\n",
    "# want multiple copies of the graph.\n",
    "tf.python.framework.ops.reset_default_graph()\n",
    "\n",
    "inputs = tf.placeholder(tf.float32, [None, 2], name=\"inputs\")\n",
    "expected_outputs = tf.placeholder(tf.float32, [None, 3], name=\"weights\")\n",
    "weights = tf.Variable(tf.zeros([2, 3], tf.float32), name=\"weights\")\n",
    "biases = tf.Variable(tf.zeros([3]), tf.float32, name=\"biases\")\n",
    "\n",
    "with tf.name_scope(\"linear_softmax\"):\n",
    "    outputs = tf.nn.softmax(tf.matmul(inputs, weights) + biases)"
   ]
  },
  {
   "cell_type": "markdown",
   "metadata": {},
   "source": [
    "## Add gradient descent to the graph"
   ]
  },
  {
   "cell_type": "code",
   "execution_count": null,
   "metadata": {
    "collapsed": false
   },
   "outputs": [],
   "source": [
    "with tf.name_scope(\"cross_entropy\"):\n",
    "    cross_entropy = -tf.reduce_sum(expected_outputs*tf.log(outputs))\n",
    "\n",
    "with tf.name_scope(\"train_step\"):\n",
    "    optimizer = tf.train.GradientDescentOptimizer(learning_rate=0.01)\n",
    "    train_step = optimizer.minimize(cross_entropy)"
   ]
  },
  {
   "cell_type": "code",
   "execution_count": null,
   "metadata": {
    "collapsed": false
   },
   "outputs": [],
   "source": [
    "initialize = tf.initialize_all_variables()\n",
    "labels = tf.argmax(outputs, 1)\n",
    "expected_labels = tf.argmax(expected_outputs, 1)\n",
    "correct_prediction = tf.equal(labels, expected_labels)\n",
    "\n",
    "accuracy = tf.reduce_mean(tf.cast(correct_prediction, tf.float32))"
   ]
  },
  {
   "cell_type": "markdown",
   "metadata": {},
   "source": [
    "## Train"
   ]
  },
  {
   "cell_type": "code",
   "execution_count": null,
   "metadata": {
    "collapsed": false
   },
   "outputs": [],
   "source": [
    "with tf.Session() as session:\n",
    "    session.run(initialize)\n",
    "    for step in xrange(1000):\n",
    "        session.run(train_step, {\n",
    "                inputs: training_inputs,\n",
    "                expected_outputs: training_labels\n",
    "            })\n",
    "\n",
    "    print session.run(accuracy, {\n",
    "                inputs: test_inputs,\n",
    "                expected_outputs: test_labels\n",
    "            })\n",
    "    \n",
    "    test_run_results = session.run(labels, {\n",
    "            inputs: test_inputs\n",
    "        })\n",
    "    \n",
    "    print zip(test_inputs, test_run_results)"
   ]
  }
 ],
 "metadata": {
  "kernelspec": {
   "display_name": "Python 2",
   "language": "python",
   "name": "python2"
  },
  "language_info": {
   "codemirror_mode": {
    "name": "ipython",
    "version": 2
   },
   "file_extension": ".py",
   "mimetype": "text/x-python",
   "name": "python",
   "nbconvert_exporter": "python",
   "pygments_lexer": "ipython2",
   "version": "2.7.6"
  }
 },
 "nbformat": 4,
 "nbformat_minor": 0
}
